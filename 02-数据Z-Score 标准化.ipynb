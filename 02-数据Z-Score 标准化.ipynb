{
 "cells": [
  {
   "cell_type": "code",
   "execution_count": 1,
   "metadata": {},
   "outputs": [],
   "source": [
    "import xlrd\n",
    "import pandas as pd \n",
    "import numpy as np\n",
    "from openpyxl import load_workbook\n",
    "import warnings\n",
    "warnings.filterwarnings('ignore') #将警告滤掉\n",
    "from sklearn.feature_selection import RFE, RFECV\n",
    "from sklearn.svm import LinearSVC\n",
    "from  sklearn import model_selection\n",
    "from sklearn.model_selection import cross_val_score\n",
    "from sklearn import preprocessing\n",
    "from imblearn.over_sampling import RandomOverSampler\n",
    "from imblearn.over_sampling import SMOTE, ADASYN\n",
    "from collections import Counter\n",
    "import pickle\n",
    "from sklearn.model_selection import KFold\n",
    "from sklearn.model_selection import train_test_split\n",
    "import seaborn as sns\n",
    "\n",
    "# 设置显示的行数和列数\n",
    "pd.options.display.max_columns = None\n",
    "pd.options.display.max_rows = None"
   ]
  },
  {
   "cell_type": "code",
   "execution_count": 2,
   "metadata": {},
   "outputs": [],
   "source": [
    "# 读取excel文件\n",
    "# data = pd.read_csv('G:/StudyFile/PycharmProjects/pythonStudy/FallDetection/data/newdata/all.csv')\n",
    "# data = pd.read_csv('G:/StudyFile/PycharmProjects/pythonStudy/FallDetection/data/newdata/train.csv')\n",
    "# data = pd.read_csv('G:/StudyFile/PycharmProjects/pythonStudy/FallDetection/data/newdata/validation.csv')\n",
    "# data = pd.read_csv('G:/StudyFile/PycharmProjects/pythonStudy/FallDetection/data/newdata/test.csv')\n",
    "data = pd.read_csv('G:/StudyFile/PycharmProjects/pythonStudy/FallDetection/data/newdata/cross.csv')"
   ]
  },
  {
   "cell_type": "code",
   "execution_count": 3,
   "metadata": {},
   "outputs": [],
   "source": [
    "# data"
   ]
  },
  {
   "cell_type": "code",
   "execution_count": 4,
   "metadata": {},
   "outputs": [],
   "source": [
    "x= data.drop(['record','label'],axis=1)"
   ]
  },
  {
   "cell_type": "code",
   "execution_count": 5,
   "metadata": {},
   "outputs": [],
   "source": [
    "# x"
   ]
  },
  {
   "cell_type": "code",
   "execution_count": 6,
   "metadata": {},
   "outputs": [],
   "source": [
    "zscore = preprocessing.StandardScaler()\n",
    "# zscore标准化\n",
    "zscore = zscore.fit_transform(x)"
   ]
  },
  {
   "cell_type": "code",
   "execution_count": 7,
   "metadata": {},
   "outputs": [],
   "source": [
    "x_zscore = pd.DataFrame(zscore,index=x.index,columns=x.columns)"
   ]
  },
  {
   "cell_type": "code",
   "execution_count": 8,
   "metadata": {},
   "outputs": [],
   "source": [
    "# x_zscore"
   ]
  },
  {
   "cell_type": "code",
   "execution_count": 9,
   "metadata": {},
   "outputs": [],
   "source": [
    "# x_zscore.to_csv(r'E:/00临时文件/数据集/biaozhun-all.csv')\n",
    "# x_zscore.to_csv(r'E:/00临时文件/数据集/biaozhun-train.csv')\n",
    "# x_zscore.to_csv(r'E:/00临时文件/数据集/biaozhun-validation.csv')\n",
    "# x_zscore.to_csv(r'E:/00临时文件/数据集/biaozhun-test.csv')\n",
    "x_zscore.to_csv(r'E:/00临时文件/数据集/biaozhun-cross.csv')"
   ]
  },
  {
   "cell_type": "code",
   "execution_count": null,
   "metadata": {},
   "outputs": [],
   "source": []
  },
  {
   "cell_type": "code",
   "execution_count": null,
   "metadata": {},
   "outputs": [],
   "source": []
  }
 ],
 "metadata": {
  "kernelspec": {
   "display_name": "Python 3",
   "language": "python",
   "name": "python3"
  },
  "language_info": {
   "codemirror_mode": {
    "name": "ipython",
    "version": 3
   },
   "file_extension": ".py",
   "mimetype": "text/x-python",
   "name": "python",
   "nbconvert_exporter": "python",
   "pygments_lexer": "ipython3",
   "version": "3.8.3"
  }
 },
 "nbformat": 4,
 "nbformat_minor": 4
}
